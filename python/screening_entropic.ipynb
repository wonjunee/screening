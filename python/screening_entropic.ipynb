{
  "cells": [
    {
      "cell_type": "code",
      "execution_count": 1,
      "metadata": {
        "colab": {
          "base_uri": "https://localhost:8080/"
        },
        "id": "nSh2osFVUk3H",
        "outputId": "01f7be25-e867-46c2-f23d-989054d37726"
      },
      "outputs": [
        {
          "name": "stdout",
          "output_type": "stream",
          "text": [
            "running build_ext\n",
            "gcc -Wno-unused-result -Wsign-compare -Wunreachable-code -DNDEBUG -g -fwrapv -O3 -Wall -Wstrict-prototypes -I/Users/wonjunlee/miniconda3/envs/cv/include -arch x86_64 -I/Users/wonjunlee/miniconda3/envs/cv/include -arch x86_64 -I/Users/wonjunlee/miniconda3/envs/cv/include/python3.6m -c flagcheck.cpp -o flagcheck.o -std=c++17\n",
            "building 'screening' extension\n",
            "gcc -Wno-unused-result -Wsign-compare -Wunreachable-code -DNDEBUG -g -fwrapv -O3 -Wall -Wstrict-prototypes -I/Users/wonjunlee/miniconda3/envs/cv/include -arch x86_64 -I/Users/wonjunlee/miniconda3/envs/cv/include -arch x86_64 -DVERSION_INFO=0.0.1 -I/Users/wonjunlee/miniconda3/envs/cv/lib/python3.6/site-packages/pybind11/include -I/Users/wonjunlee/miniconda3/envs/cv/include/python3.6m -c src/main.cpp -o build/temp.macosx-10.9-x86_64-3.6/src/main.o -std=c++17 -mmacosx-version-min=10.14 -fvisibility=hidden -g0 -stdlib=libc++\n",
            "\u001b[1msrc/main.cpp:208:13: \u001b[0m\u001b[0;1;35mwarning: \u001b[0m\u001b[1munused variable 'psi' [-Wunused-variable]\u001b[0m\n",
            "    double *psi = static_cast<double *>(psi_buf.ptr);\n",
            "\u001b[0;1;32m            ^\n",
            "\u001b[0m\u001b[1msrc/main.cpp:585:13: \u001b[0m\u001b[0;1;35mwarning: \u001b[0m\u001b[1munused variable 'n2' [-Wunused-variable]\u001b[0m\n",
            "        int n2 = psi_buf.shape[1];\n",
            "\u001b[0;1;32m            ^\n",
            "\u001b[0m\u001b[1msrc/main.cpp:584:13: \u001b[0m\u001b[0;1;35mwarning: \u001b[0m\u001b[1munused variable 'n1' [-Wunused-variable]\u001b[0m\n",
            "        int n1 = psi_buf.shape[0];\n",
            "\u001b[0;1;32m            ^\n",
            "\u001b[0m\u001b[1msrc/main.cpp:790:20: \u001b[0m\u001b[0;1;35mwarning: \u001b[0m\u001b[1munused variable 'val' [-Wunused-variable]\u001b[0m\n",
            "            double val = 1\n",
            "\u001b[0;1;32m                   ^\n",
            "\u001b[0m\u001b[1msrc/main.cpp:745:13: \u001b[0m\u001b[0;1;35mwarning: \u001b[0m\u001b[1munused variable 'cost' [-Wunused-variable]\u001b[0m\n",
            "    double *cost  = static_cast<double *>(cost_buf.ptr);\n",
            "\u001b[0;1;32m            ^\n",
            "\u001b[0m\u001b[1msrc/main.cpp:744:13: \u001b[0m\u001b[0;1;35mwarning: \u001b[0m\u001b[1munused variable 'nu' [-Wunused-variable]\u001b[0m\n",
            "    double *nu    = static_cast<double *>(nu_buf.ptr);\n",
            "\u001b[0;1;32m            ^\n",
            "\u001b[0m\u001b[1msrc/main.cpp:746:13: \u001b[0m\u001b[0;1;35mwarning: \u001b[0m\u001b[1munused variable 'b' [-Wunused-variable]\u001b[0m\n",
            "    double *b     = static_cast<double *>(b_buf.ptr);\n",
            "\u001b[0;1;32m            ^\n",
            "\u001b[0m7 warnings generated.\n",
            "g++ -bundle -undefined dynamic_lookup -L/Users/wonjunlee/miniconda3/envs/cv/lib -arch x86_64 -L/Users/wonjunlee/miniconda3/envs/cv/lib -arch x86_64 -arch x86_64 build/temp.macosx-10.9-x86_64-3.6/src/main.o -o build/lib.macosx-10.9-x86_64-3.6/screening.cpython-36m-darwin.so -mmacosx-version-min=10.14 -stdlib=libc++\n",
            "copying build/lib.macosx-10.9-x86_64-3.6/screening.cpython-36m-darwin.so -> \n"
          ]
        }
      ],
      "source": [
        "# Run if you are on Google Colab to install the Python bindings\n",
        "!bash compile.sh"
      ]
    },
    {
      "cell_type": "code",
      "execution_count": 2,
      "metadata": {
        "id": "19ai916xeH0p"
      },
      "outputs": [],
      "source": [
        "import argparse\n",
        "import os\n",
        "import numpy as np\n",
        "import math\n",
        "import sys\n",
        "import copy\n",
        "import matplotlib.pyplot as plt\n",
        "from screening import HelperClass\n",
        "\n",
        "import torchvision.transforms as transforms\n",
        "from torchvision.utils import save_image\n",
        "\n",
        "from torch.utils.data import DataLoader\n",
        "from torchvision import datasets\n",
        "from torch.autograd import Variable\n",
        "\n",
        "import torch.nn as nn\n",
        "import torch.nn.functional as F\n",
        "import torch.autograd as autograd\n",
        "import torch\n",
        "\n",
        "cuda = True if torch.cuda.is_available() else False\n",
        "os.makedirs(\"images\", exist_ok=True)"
      ]
    },
    {
      "attachments": {},
      "cell_type": "markdown",
      "metadata": {
        "id": "h4mgpIxOencg"
      },
      "source": [
        "# Importing functions (Poisson solver, finite difference schemes, c-transform, etc)"
      ]
    },
    {
      "cell_type": "code",
      "execution_count": 3,
      "metadata": {
        "id": "25gXr5UPflX7"
      },
      "outputs": [],
      "source": [
        "from python_functions.poisson_helper import *\n",
        "from python_functions.finite_diff_helper import *\n",
        "from screening import c_transform_cpp, c_transform_forward_cpp , approx_push_cpp, c_transform_epsilon_cpp, compute_nu_and_rho_cpp"
      ]
    },
    {
      "cell_type": "code",
      "execution_count": 4,
      "metadata": {},
      "outputs": [],
      "source": [
        "import os\n",
        "import numpy as np\n",
        "from scipy.fftpack import dctn, idctn\n",
        "import math\n",
        "import sys\n",
        "import copy\n",
        "\n",
        "# Initialize Fourier kernel\n",
        "def initialize_kernel(n1, n2, dy):\n",
        "    xx, yy = np.meshgrid(np.linspace(0,np.pi,n1,False), np.linspace(0,np.pi,n2,False))\n",
        "    # kernel = 2*n1*n1*(1-np.cos(xx)) + 2*n2*n2*(1-np.cos(yy))\n",
        "    kernel = 2*(1-np.cos(xx))/(dy*dy) + 2*(1-np.cos(yy))/(dy*dy)\n",
        "    kernel[0,0] = 1     # to avoid dividing by zero\n",
        "    return kernel\n",
        "\n",
        "# 2d DCT\n",
        "def dct2(a):\n",
        "    return dctn(a, norm='ortho')\n",
        "\n",
        "# 2d IDCT\n",
        "def idct2(a):\n",
        "    return idctn(a, norm='ortho')\n",
        "\n",
        "# Solving Poisson\n",
        "#   - Δ u = f\n",
        "#   output: u = (-Δ)⁻¹ f\n",
        "def solve_poisson(u, f, kernel):\n",
        "    n = u.shape[0]\n",
        "    u[:] = 0\n",
        "    workspace = np.copy(f)\n",
        "    workspace = dct2(workspace) / kernel\n",
        "    workspace[0,0] = 0\n",
        "    u += idct2(workspace)\n",
        "\n",
        "def solve_poisson_bdry(u, f, bdry, kernel):\n",
        "    gx0, gx1, gy0, gy1 = bdry\n",
        "    n = u.shape[0]\n",
        "    u[:] = 0\n",
        "    workspace = np.copy(f)\n",
        "    workspace[0,:]   -= gy0 * n\n",
        "    workspace[n-1,:] += gy1 * n\n",
        "    workspace[:,0]   -= gx0 * n\n",
        "    workspace[:,n-1] += gx1 * n\n",
        "    workspace = dct2(workspace) / kernel\n",
        "    workspace[0,0] = 0\n",
        "    u += idct2(workspace)"
      ]
    },
    {
      "cell_type": "markdown",
      "metadata": {},
      "source": [
        "# Defining functions"
      ]
    },
    {
      "cell_type": "code",
      "execution_count": 5,
      "metadata": {
        "id": "mSg5VWkXTGCj"
      },
      "outputs": [],
      "source": [
        "# performing c transform\n",
        "# output: modified psi\n",
        "def c_transform(psi, phi, cost):\n",
        "  n,m = psi.shape[0], phi.shape[0]\n",
        "  psi[:] = torch.min(cost + phi.view((1,m*m)), dim=1).values.view((n,n))\n",
        "  \n",
        "\n",
        "def c_transform_forward(phi, psi, cost):\n",
        "  m = phi.shape[0]\n",
        "  n = psi.shape[0]\n",
        "  phi[:] = np.max(- cost + psi.reshape((n*n,1)), axis=0).reshape((m,m))\n",
        "\n",
        "# push forward\n",
        "def approx_push(nu, psi, phi, cost, epsilon: float, dx: float, dy: float, yMax: float):\n",
        "  n = psi.shape[0]\n",
        "  m = phi.shape[0]\n",
        "  mat   = torch.exp((psi.view((n*n,1)) - phi.view((1,m*m)) - cost) / epsilon) # mat = (n*n, n*n) matrix\n",
        "  mat  /= torch.sum(mat, dim=1).view((n*n,1)) * (dy*dy)\n",
        "  nu[:] = torch.sum(mat, dim=0).view((m,m)) * (dx*dx)\n",
        "\n",
        "\n",
        "def compute_rhs(phi_np, psi_np, nu_np, b, helper, dx, dy, show_image=False):\n",
        "  n = phi_np.shape[0]\n",
        "  tmp = np.zeros((n+2,n+2))\n",
        "  #   initialize fx, fy\n",
        "  fx = np.zeros((n, n))\n",
        "  fy = np.zeros((n, n))\n",
        "\n",
        "  phi_b = phi_np-b\n",
        "  compute_dx(fx, phi_b, dy)\n",
        "  compute_dy(fy, phi_b, dy)\n",
        "\n",
        "#   det = phixx * phiyy - phixy * phixy\n",
        "#   R1 = nu_np * (  phiyy * fx - phixy * fy) / det\n",
        "#   R2 = nu_np * (- phixy * fx + phixx * fy) / det\n",
        "\n",
        "  R1  = np.zeros((n,n))\n",
        "  R2  = np.zeros((n,n))\n",
        "  R1x = np.zeros((n,n))\n",
        "  R2y = np.zeros((n,n))\n",
        "\n",
        "  helper.compute_inverse_g(R1, R2, phi_np, psi_np, fx, fy)\n",
        "\n",
        "  R1_nu = nu_np * R1\n",
        "  R2_nu = nu_np * R2\n",
        "\n",
        "  # R1x = compute_dx_forward(R1, tmp, dy)\n",
        "  # R2y = compute_dy_forward(R2, tmp, dy)\n",
        "\n",
        "  compute_dx(R1x, R1_nu, dy)\n",
        "  compute_dy(R2y, R2_nu, dy)\n",
        "\n",
        "  gx0 = -R1_nu[:,0]\n",
        "  gx1 = -R1_nu[:,-1]\n",
        "\n",
        "  gy0 = -R2_nu[0,:]\n",
        "  gy1 = -R2_nu[-1,:]\n",
        "\n",
        "  # fig,ax = plt.subplots(1,5,figsize=(17,4))\n",
        "  # ax[0].imshow(R1_nu,origin='lower')\n",
        "  # ax[0].set_title(\"R1\")\n",
        "  # ax[1].imshow(R2_nu,origin='lower')\n",
        "  # ax[1].set_title(\"R2\")\n",
        "  # ax[2].imshow(R1x,origin='lower')\n",
        "  # ax[2].set_title(\"R1x\")\n",
        "  # ax[3].imshow(R2y,origin='lower')\n",
        "  # ax[3].set_title(\"R2y\")\n",
        "  # ax[4].imshow(nu_np,origin='lower')\n",
        "  # ax[4].set_title(\"nu_np\")\n",
        "  # plt.show()\n",
        "\n",
        "  return nu_np + R1x + R2y, [gx0,gx1,gy0,gy1], R1, R2, R1x, R2y\n",
        "\n",
        "\n",
        "def solve_poisson(u, phi_np, psi_np, nu_np, b, kernel, helper, dx, dy, yMax, show_image=False):\n",
        "  rhs, bdry, R1, R2, R1x, R2y = compute_rhs(phi_np, psi_np, nu_np, b, helper, dx, dy, show_image=show_image) # computing the right hand side\n",
        "  solve_poisson_bdry(u,rhs,bdry,kernel)\n",
        "  return rhs, R1, R2, R1x, R2y"
      ]
    },
    {
      "cell_type": "code",
      "execution_count": 6,
      "metadata": {},
      "outputs": [],
      "source": [
        "# centered difference\n",
        "def compute_dx(output, phi, dy):\n",
        "  output[:,1:-1] = (phi[:,2:] - phi[:,:-2])/(2.0*dy)\n",
        "  output[:,0]    = (phi[:,1] - phi[:,0])/(1.0*dy)\n",
        "  output[:,-1]   = (phi[:,-1] - phi[:,-2])/(1.0*dy)\n",
        "\n",
        "# centered difference\n",
        "def compute_dy(output, phi, dy):\n",
        "  output[1:-1,:] = (phi[2:,:] - phi[:-2,:])/(2.0*dy)\n",
        "  output[0,:]    = (phi[1,:] - phi[0,:])/(1.0*dy)\n",
        "  output[-1,:]   = (phi[-1,:] - phi[-2,:])/(1.0*dy)"
      ]
    },
    {
      "cell_type": "code",
      "execution_count": 33,
      "metadata": {
        "colab": {
          "base_uri": "https://localhost:8080/",
          "height": 1000
        },
        "id": "F7hxFBC4UtIF",
        "outputId": "eee2946d-b5b0-4cc9-b71a-3feb6c5de9e9"
      },
      "outputs": [
        {
          "name": "stdout",
          "output_type": "stream",
          "text": [
            "size of cost:  (1600, 6400)\n"
          ]
        },
        {
          "data": {
            "image/png": "[encoded data removed]",
            "text/plain": [
              "<Figure size 720x360 with 2 Axes>"
            ]
          },
          "metadata": {
            "needs_background": "light"
          },
          "output_type": "display_data"
        },
        {
          "data": {
            "image/png": "[encoded data removed]",
            "text/plain": [
              "<Figure size 432x288 with 1 Axes>"
            ]
          },
          "metadata": {
            "needs_background": "light"
          },
          "output_type": "display_data"
        }
      ],
      "source": [
        "from IPython import display\n",
        "\n",
        "# parameters\n",
        "# grid size n x n\n",
        "n = 40\n",
        "m = 80\n",
        "\n",
        "# step size for the gradient ascent\n",
        "L = 5000\n",
        "\n",
        "# epsilon for pushforward\n",
        "epsilon = 1e-2\n",
        "max_iteration = 10000000\n",
        "\n",
        "Xx,Xy = np.meshgrid(np.linspace(1+0.5/n,2-0.5/n,n), np.linspace(1+0.5/n,2-0.5/n,n))\n",
        "yMax = 2\n",
        "Yx,Yy = np.meshgrid(np.linspace(0.5/m,1-0.5/m,m), np.linspace(0.5/m,1-0.5/m,m))\n",
        "Yx *= 2\n",
        "Yy *= 2\n",
        "\n",
        "dx = 1.0/n\n",
        "dy = dx * yMax\n",
        "\n",
        "# kernel = initialize_kernel(n, n, dy)\n",
        "kernel = initialize_kernel(n, n, 1.0/n*yMax)\n",
        "\n",
        "Xv = np.zeros((n*n,2))\n",
        "Xv[:,0] = Xx.reshape((n*n,))\n",
        "Xv[:,1] = Xy.reshape((n*n,))\n",
        "\n",
        "Yv = np.zeros((m*m,2))\n",
        "Yv[:,0] = Yx.reshape((m*m,))\n",
        "Yv[:,1] = Yy.reshape((m*m,))\n",
        "\n",
        "cost_np = - np.sum(Xv.reshape((n*n,1,2)) * Yv.reshape((1,m*m,2)),axis=2)\n",
        "\n",
        "print(\"size of cost: \", cost_np.shape)\n",
        "b_np       = 0.5 * (Yx**2 + Yy**2)\n",
        "psi_np     = - 0.5 * (Xx**2+Xy**2)\n",
        "phi_np     = np.zeros((m,m))\n",
        "nu_np      = np.zeros((m,m))\n",
        "psi_eps_np = np.zeros((n,n))\n",
        "rho_np     = np.zeros((m,m))\n",
        "\n",
        "c_transform_forward_cpp(phi_np, psi_np, cost_np)\n",
        "\n",
        "# phi  = torch.from_numpy(phi).type(torch.float32)\n",
        "cost = torch.from_numpy(cost_np)\n",
        "phi  = torch.from_numpy(phi_np)\n",
        "psi  = torch.from_numpy(psi_np)\n",
        "nu   = torch.from_numpy(nu_np)\n",
        "\n",
        "c_transform_forward(phi_np, psi_np, cost_np)\n",
        "\n",
        "fig,ax = plt.subplots(1,2,figsize=(10,5))\n",
        "\n",
        "c_transform_epsilon_cpp(psi_eps_np, psi_np, phi_np, cost_np, epsilon, dx, dy, yMax)\n",
        "compute_nu_and_rho_cpp(nu_np, rho_np, psi_eps_np, phi_np,  cost_np, b_np, epsilon, dx, dy, yMax)\n",
        "ax[0].imshow(nu_np, origin='lower')\n",
        "ax[0].set_title(f'sum: {np.sum(nu_np)*dy*dy}')\n",
        " \n",
        "approx_push(nu, psi, phi, cost, epsilon, dx, dy, yMax)\n",
        "ax[1].imshow(nu, origin='lower')\n",
        "ax[1].set_title(f\"sum: {torch.sum(nu)*dy*dy}\")\n",
        "\n",
        "\n",
        "plt.show()\n",
        "\n",
        "helper = HelperClass(psi, phi, dx, dy)\n",
        "\n",
        "u = np.zeros((n,n))\n",
        "\n",
        "Tx = np.zeros((psi_np.shape[0], psi_np.shape[1]))\n",
        "Ty = np.zeros((psi_np.shape[0], psi_np.shape[1]))\n",
        "compute_dx(Tx, psi_np, dx)\n",
        "compute_dy(Ty, psi_np, dx)\n",
        "Tx = - Tx\n",
        "Ty = - Ty\n",
        "\n",
        "plt.figure()\n",
        "plt.scatter(Tx,Ty)\n",
        "plt.xlim([0,2.5])\n",
        "plt.ylim([0,2.5])\n",
        "plt.show()\n",
        "\n",
        "if cuda:\n",
        "  phi  = phi.cuda()\n",
        "  psi  = psi.cuda()\n",
        "  cost = cost.cuda()\n",
        "  nu   = nu.cuda()"
      ]
    },
    {
      "cell_type": "code",
      "execution_count": 34,
      "metadata": {},
      "outputs": [
        {
          "data": {
            "image/png": "[encoded data removed]",
            "text/plain": [
              "<Figure size 1728x288 with 6 Axes>"
            ]
          },
          "metadata": {
            "needs_background": "light"
          },
          "output_type": "display_data"
        },
        {
          "data": {
            "image/png": "[encoded data removed]",
            "text/plain": [
              "<Figure size 1728x288 with 6 Axes>"
            ]
          },
          "metadata": {
            "needs_background": "light"
          },
          "output_type": "display_data"
        },
        {
          "ename": "KeyboardInterrupt",
          "evalue": "",
          "output_type": "error",
          "traceback": [
            "\u001b[0;31m---------------------------------------------------------------------------\u001b[0m",
            "\u001b[0;31mKeyboardInterrupt\u001b[0m                         Traceback (most recent call last)",
            "\u001b[0;32m<ipython-input-34-1d00fc4fe94a>\u001b[0m in \u001b[0;36m<module>\u001b[0;34m\u001b[0m\n\u001b[1;32m     25\u001b[0m   \u001b[0;31m# phi_np[0] = 0 # outside option\u001b[0m\u001b[0;34m\u001b[0m\u001b[0;34m\u001b[0m\u001b[0;34m\u001b[0m\u001b[0m\n\u001b[1;32m     26\u001b[0m \u001b[0;34m\u001b[0m\u001b[0m\n\u001b[0;32m---> 27\u001b[0;31m   \u001b[0mcompute_nu_and_rho_cpp\u001b[0m\u001b[0;34m(\u001b[0m\u001b[0mnu_np\u001b[0m\u001b[0;34m,\u001b[0m \u001b[0mrho_np\u001b[0m\u001b[0;34m,\u001b[0m \u001b[0mpsi_eps_np\u001b[0m\u001b[0;34m,\u001b[0m \u001b[0mphi_np\u001b[0m\u001b[0;34m,\u001b[0m  \u001b[0mcost_np\u001b[0m\u001b[0;34m,\u001b[0m \u001b[0mb_np\u001b[0m\u001b[0;34m,\u001b[0m \u001b[0;36m1e-2\u001b[0m\u001b[0;34m,\u001b[0m \u001b[0mdx\u001b[0m\u001b[0;34m,\u001b[0m \u001b[0mdy\u001b[0m\u001b[0;34m,\u001b[0m \u001b[0myMax\u001b[0m\u001b[0;34m)\u001b[0m\u001b[0;34m\u001b[0m\u001b[0;34m\u001b[0m\u001b[0m\n\u001b[0m\u001b[1;32m     28\u001b[0m \u001b[0;34m\u001b[0m\u001b[0m\n\u001b[1;32m     29\u001b[0m   \u001b[0;31m# gradient ascent\u001b[0m\u001b[0;34m\u001b[0m\u001b[0;34m\u001b[0m\u001b[0;34m\u001b[0m\u001b[0m\n",
            "\u001b[0;31mKeyboardInterrupt\u001b[0m: "
          ]
        }
      ],
      "source": [
        "# fig,ax = plt.subplots(1,5,figsize=(18,4))\n",
        "# hdisplay = display.display(\"\", display_id=True)\n",
        "\n",
        "J_list = []\n",
        "L = 10\n",
        "eps = 1e-2\n",
        "\n",
        "for it in range(max_iteration):\n",
        "  c_transform(psi, phi, cost)\n",
        "  c_transform_epsilon_cpp(psi_eps_np, psi_np, phi_np, cost_np, eps, dx, dy, yMax)\n",
        "\n",
        "  # compute plan\n",
        "  # plan = np.exp( (psi_eps_np.reshape((-1,1)) - phi_np.reshape((1,-1)) - cost_np)/eps ) * dx*dx * dy*dy\n",
        "\n",
        "  # rho_np[:] = plan.sum(axis=0).reshape((m,m))\n",
        "\n",
        "  # plan /= plan.sum()\n",
        "\n",
        "  # b_phi = (b_np - phi_np)/eps\n",
        "\n",
        "  # xi = plan @ b_phi.reshape((-1,1))\n",
        "  # xi /= dx*dx\n",
        "\n",
        "  # phi_np += 1.0/L * ( (1.0 - b_phi)*rho_np + (xi.reshape((1,-1))@plan).reshape((m,m)) )  \n",
        "  # phi_np[0] = 0 # outside option\n",
        "  \n",
        "  compute_nu_and_rho_cpp(nu_np, rho_np, psi_eps_np, phi_np,  cost_np, b_np, 1e-2, dx, dy, yMax)\n",
        "\n",
        "  # gradient ascent\n",
        "  phi_np += 1.0/L * ((1.0 - (b_np-phi_np)/eps) * nu_np + rho_np)\n",
        "  phi[0] = 0 # outside option\n",
        "  \n",
        "  \n",
        "  J_val = ((phi_np - b_np) * nu_np).sum() * dy*dy\n",
        "  J_list.append(J_val)\n",
        "\n",
        "  \n",
        "  # for plotting point cloud version of T(x)\n",
        "  compute_dx(Tx, psi, dx)\n",
        "  compute_dy(Ty, psi, dx)\n",
        "\n",
        "  Tx = -Tx; Ty = -Ty\n",
        "\n",
        "  if it % 100 == 0:\n",
        "    fig,ax = plt.subplots(1,6,figsize=(24,4))\n",
        "    ax[0].contourf(Yx,Yy,nu_np)\n",
        "    ax[0].set_title(f\"nu {np.min(nu_np):0.2e}, {np.max(nu_np):0.2e} {np.sum(nu_np)*dy**2:0.2e}\")\n",
        "    ax[1].contourf(Yx,Yy,rho_np)\n",
        "    ax[1].set_title(f\"rho {np.min(rho_np):0.2e}, {np.max(rho_np):0.2e}\")\n",
        "    ax[2].contourf(Yx,Yy,phi_np)\n",
        "    ax[2].set_title(f\"phi {np.min(phi_np):0.2e}, {np.max(phi_np):0.2e}\")\n",
        "    ax[3].contourf(Xx,Xy,psi_eps_np)\n",
        "    ax[3].set_title(f\"psi {np.min(psi_eps_np):0.2e}, {np.max(psi_eps_np):0.2e}\")\n",
        "    ax[4].plot(J_list, '.-')\n",
        "    ax[4].set_title(f\"Loss plot\")\n",
        "    ax[5].scatter(Tx,Ty,marker='.')\n",
        "    ax[5].set_aspect('equal')\n",
        "    ax[5].set_xlim([0,2.1])\n",
        "    ax[5].set_ylim([0,2.1])\n",
        "    # plt.suptitle(f\"it={it}\")\n",
        "    # plt.savefig(f\"images/{it//10:03d}.png\")\n",
        "    plt.show()\n",
        "    # hdisplay.update(fig)"
      ]
    },
    {
      "cell_type": "code",
      "execution_count": null,
      "metadata": {},
      "outputs": [],
      "source": []
    },
    {
      "cell_type": "code",
      "execution_count": 9,
      "metadata": {
        "id": "KRkqbzjg1sjN"
      },
      "outputs": [
        {
          "data": {
            "text/html": [
              "<video src=\"project.mp4\" controls  >\n",
              "      Your browser does not support the <code>video</code> element.\n",
              "    </video>"
            ],
            "text/plain": [
              "<IPython.core.display.Video object>"
            ]
          },
          "execution_count": 9,
          "metadata": {},
          "output_type": "execute_result"
        }
      ],
      "source": [
        "import glob\n",
        "import cv2\n",
        "\n",
        "img_array = []\n",
        "for filename in glob.glob('./images/*.png'):\n",
        "    img = cv2.imread(filename)\n",
        "    height, width, layers = img.shape\n",
        "    size = (width,height)\n",
        "    img_array.append(img)\n",
        "\n",
        "\n",
        "out = cv2.VideoWriter('project.mp4',cv2.VideoWriter_fourcc(*'DIVX'), 15, size)\n",
        "\n",
        "for i in range(len(img_array)):\n",
        "    out.write(img_array[i])\n",
        "out.release()\n",
        "\n",
        "from IPython.display import Video\n",
        "Video(\"project.mp4\")"
      ]
    },
    {
      "cell_type": "code",
      "execution_count": null,
      "metadata": {
        "id": "rMeiH6IvHTCJ"
      },
      "outputs": [],
      "source": []
    },
    {
      "cell_type": "code",
      "execution_count": 10,
      "metadata": {
        "id": "_SFEgcMHHsVd"
      },
      "outputs": [],
      "source": [
        "!rm images/*\n"
      ]
    },
    {
      "cell_type": "code",
      "execution_count": null,
      "metadata": {
        "id": "00MrCv-1IVlu"
      },
      "outputs": [],
      "source": []
    }
  ],
  "metadata": {
    "accelerator": "GPU",
    "colab": {
      "gpuType": "T4",
      "provenance": []
    },
    "kernelspec": {
      "display_name": "Python 3",
      "name": "python3"
    },
    "language_info": {
      "codemirror_mode": {
        "name": "ipython",
        "version": 3
      },
      "file_extension": ".py",
      "mimetype": "text/x-python",
      "name": "python",
      "nbconvert_exporter": "python",
      "pygments_lexer": "ipython3",
      "version": "3.6.10"
    }
  },
  "nbformat": 4,
  "nbformat_minor": 0
}

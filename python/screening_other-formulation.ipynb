{
  "cells": [
    {
      "cell_type": "code",
      "execution_count": 2,
      "metadata": {
        "colab": {
          "base_uri": "https://localhost:8080/"
        },
        "id": "nSh2osFVUk3H",
        "outputId": "01f7be25-e867-46c2-f23d-989054d37726"
      },
      "outputs": [
        {
          "name": "stdout",
          "output_type": "stream",
          "text": [
            "running build_ext\n",
            "gcc -Wno-unused-result -Wsign-compare -Wunreachable-code -DNDEBUG -g -fwrapv -O3 -Wall -Wstrict-prototypes -I/Users/wonjunlee/miniconda3/envs/cv/include -arch x86_64 -I/Users/wonjunlee/miniconda3/envs/cv/include -arch x86_64 -I/Users/wonjunlee/miniconda3/envs/cv/include/python3.6m -c flagcheck.cpp -o flagcheck.o -std=c++17\n",
            "copying build/lib.macosx-10.9-x86_64-3.6/screening.cpython-36m-darwin.so -> \n"
          ]
        }
      ],
      "source": [
        "# Run if you are on Google Colab to install the Python bindings\n",
        "!bash compile.sh"
      ]
    },
    {
      "cell_type": "code",
      "execution_count": 3,
      "metadata": {
        "id": "19ai916xeH0p"
      },
      "outputs": [],
      "source": [
        "import os\n",
        "import numpy as np\n",
        "import math\n",
        "import sys\n",
        "import copy\n",
        "import matplotlib.pyplot as plt\n",
        "from screening import HelperClass, compute_first_variation_cpp\n",
        "\n",
        "import torchvision.transforms as transforms\n",
        "from torchvision.utils import save_image\n",
        "\n",
        "from torch.utils.data import DataLoader\n",
        "from torchvision import datasets\n",
        "from torch.autograd import Variable\n",
        "\n",
        "import torch.nn as nn\n",
        "import torch.nn.functional as F\n",
        "import torch.autograd as autograd\n",
        "import torch\n",
        "\n",
        "cuda = True if torch.cuda.is_available() else False\n",
        "os.makedirs(\"images\", exist_ok=True)"
      ]
    },
    {
      "attachments": {},
      "cell_type": "markdown",
      "metadata": {
        "id": "h4mgpIxOencg"
      },
      "source": [
        "# Importing functions (Poisson solver, finite difference schemes, c-transform, etc)"
      ]
    },
    {
      "cell_type": "code",
      "execution_count": 4,
      "metadata": {
        "id": "25gXr5UPflX7"
      },
      "outputs": [],
      "source": [
        "from python_functions.poisson_helper import *\n",
        "from python_functions.finite_diff_helper import *\n",
        "from screening import compute_dx, compute_dy, c_transform_cpp, c_transform_forward_cpp , approx_push_cpp, c_transform_epsilon_cpp, compute_nu_and_rho_cpp"
      ]
    },
    {
      "cell_type": "code",
      "execution_count": 5,
      "metadata": {},
      "outputs": [],
      "source": [
        "import os\n",
        "import numpy as np\n",
        "from scipy.fftpack import dctn, idctn\n",
        "import math\n",
        "import sys\n",
        "import copy\n",
        "\n",
        "# Initialize Fourier kernel\n",
        "def initialize_kernel(n1, n2, dy):\n",
        "    xx, yy = np.meshgrid(np.linspace(0,np.pi,n1,False), np.linspace(0,np.pi,n2,False))\n",
        "    # kernel = 2*n1*n1*(1-np.cos(xx)) + 2*n2*n2*(1-np.cos(yy))\n",
        "    kernel = 2*(1-np.cos(xx))/(dy*dy) + 2*(1-np.cos(yy))/(dy*dy)\n",
        "    kernel[0,0] = 1     # to avoid dividing by zero\n",
        "    return kernel\n",
        "\n",
        "# 2d DCT\n",
        "def dct2(a):\n",
        "    return dctn(a, norm='ortho')\n",
        "\n",
        "# 2d IDCT\n",
        "def idct2(a):\n",
        "    return idctn(a, norm='ortho')\n",
        "\n",
        "# Solving Poisson\n",
        "#   - Δ u = f\n",
        "#   output: u = (-Δ)⁻¹ f\n",
        "def solve_poisson(u, f, kernel):\n",
        "    n = u.shape[0]\n",
        "    u[:] = 0\n",
        "    workspace = np.copy(f)\n",
        "    workspace = dct2(workspace) / kernel\n",
        "    workspace[0,0] = 0\n",
        "    u += idct2(workspace)\n",
        "\n",
        "def solve_poisson_bdry(u, f, bdry, kernel):\n",
        "    gx0, gx1, gy0, gy1 = bdry\n",
        "    n = u.shape[0]\n",
        "    u[:] = 0\n",
        "    workspace = np.copy(f)\n",
        "    workspace[0,:]   -= gy0 * n\n",
        "    workspace[n-1,:] += gy1 * n\n",
        "    workspace[:,0]   -= gx0 * n\n",
        "    workspace[:,n-1] += gx1 * n\n",
        "    workspace = dct2(workspace) / kernel\n",
        "    workspace[0,0] = 0\n",
        "    u += idct2(workspace)"
      ]
    },
    {
      "cell_type": "markdown",
      "metadata": {},
      "source": [
        "# Defining functions"
      ]
    },
    {
      "cell_type": "code",
      "execution_count": 6,
      "metadata": {
        "id": "mSg5VWkXTGCj"
      },
      "outputs": [],
      "source": [
        "# performing c transform\n",
        "# output: modified psi\n",
        "def c_transform(psi: torch.tensor, phi: torch.tensor, cost: torch.tensor):\n",
        "  n = phi.shape[0]\n",
        "  psi[:] = torch.min(cost + phi.view((1,n*n)), dim=1).values.view((n,n))\n",
        "\n",
        "def c_transform_forward(phi: torch.tensor, psi: torch.tensor, cost: torch.tensor):\n",
        "  n = phi.shape[0]\n",
        "  phi[:] = torch.max(- cost + psi.view((n*n,1)), dim=0).values.view((n,n))\n",
        "\n",
        "# push forward\n",
        "def approx_push(nu: torch.tensor, psi: torch.tensor, phi: torch.tensor, cost: torch.tensor, epsilon: float, dx: float, dy: float, yMax: float, n: int):\n",
        "  mat   = torch.exp((psi.view((n*n,1)) - phi.view((1,n*n)) - cost) / epsilon) # mat = (n*n, n*n) matrix\n",
        "  mat  /= torch.sum(mat, dim=1).view((n*n,1)) * (dy*dy)\n",
        "  nu[:] = torch.sum(mat, dim=0).view((n,n)) * (dx*dx)\n",
        "\n",
        "\n",
        "def compute_rhs(phi_np, psi_np, nu_np, b, helper, dx, dy, show_image=False):\n",
        "  n = phi_np.shape[0]\n",
        "  tmp = np.zeros((n+2,n+2))\n",
        "\n",
        "  # the following codes compute the gradients using numpy arrays in python\n",
        "  # phixx = compute_dxx(phi_np, tmp, dy)\n",
        "  # phiyy = compute_dyy(phi_np, tmp, dy)\n",
        "  # phixy = compute_dxy(phi_np, tmp, dy)\n",
        "  # fx = compute_dx(phi_np-b, tmp, dy)\n",
        "  # fy = compute_dy(phi_np-b, tmp, dy)\n",
        "\n",
        "  # the following codes compute the gradients using through C++\n",
        "  #   initialize fx, fy\n",
        "  fx = np.zeros((n, n))\n",
        "  fy = np.zeros((n, n))\n",
        "\n",
        "  phi_b = phi_np-b\n",
        "  compute_dx(fx, phi_b, dy)\n",
        "  compute_dy(fy, phi_b, dy)\n",
        "\n",
        "#   det = phixx * phiyy - phixy * phixy\n",
        "#   R1 = nu_np * (  phiyy * fx - phixy * fy) / det\n",
        "#   R2 = nu_np * (- phixy * fx + phixx * fy) / det\n",
        "\n",
        "  R1  = np.zeros((n,n))\n",
        "  R2  = np.zeros((n,n))\n",
        "  R1x = np.zeros((n,n))\n",
        "  R2y = np.zeros((n,n))\n",
        "\n",
        "  helper.compute_inverse_g(R1, R2, phi_np, psi_np, fx, fy)\n",
        "\n",
        "  R1_nu = nu_np * R1\n",
        "  R2_nu = nu_np * R2\n",
        "\n",
        "  # R1x = compute_dx_forward(R1, tmp, dy)\n",
        "  # R2y = compute_dy_forward(R2, tmp, dy)\n",
        "\n",
        "  compute_dx(R1x, R1_nu, dy)\n",
        "  compute_dy(R2y, R2_nu, dy)\n",
        "\n",
        "  gx0 = -R1_nu[:,0]\n",
        "  gx1 = -R1_nu[:,-1]\n",
        "\n",
        "  gy0 = -R2_nu[0,:]\n",
        "  gy1 = -R2_nu[-1,:]\n",
        "\n",
        "  # fig,ax = plt.subplots(1,5,figsize=(17,4))\n",
        "  # ax[0].imshow(R1_nu,origin='lower')\n",
        "  # ax[0].set_title(\"R1\")\n",
        "  # ax[1].imshow(R2_nu,origin='lower')\n",
        "  # ax[1].set_title(\"R2\")\n",
        "  # ax[2].imshow(R1x,origin='lower')\n",
        "  # ax[2].set_title(\"R1x\")\n",
        "  # ax[3].imshow(R2y,origin='lower')\n",
        "  # ax[3].set_title(\"R2y\")\n",
        "  # ax[4].imshow(nu_np,origin='lower')\n",
        "  # ax[4].set_title(\"nu_np\")\n",
        "  # plt.show()\n",
        "\n",
        "  return nu_np + R1x + R2y, [gx0,gx1,gy0,gy1], R1, R2, R1x, R2y\n",
        "\n",
        "\n",
        "def solve_poisson(u, phi_np, psi_np, nu_np, b, kernel, helper, dx, dy, yMax, show_image=False):\n",
        "  rhs, bdry, R1, R2, R1x, R2y = compute_rhs(phi_np, psi_np, nu_np, b, helper, dx, dy, show_image=show_image) # computing the right hand side\n",
        "  solve_poisson_bdry(u,rhs,bdry,kernel)\n",
        "  return rhs, R1, R2, R1x, R2y"
      ]
    },
    {
      "cell_type": "code",
      "execution_count": 7,
      "metadata": {
        "colab": {
          "base_uri": "https://localhost:8080/",
          "height": 1000
        },
        "id": "F7hxFBC4UtIF",
        "outputId": "eee2946d-b5b0-4cc9-b71a-3feb6c5de9e9"
      },
      "outputs": [
        {
          "name": "stdout",
          "output_type": "stream",
          "text": [
            "size of cost:  (4096, 4096)\n"
          ]
        },
        {
          "data": {
            "image/png": "[encoded data removed]",
            "text/plain": [
              "<Figure size 432x288 with 1 Axes>"
            ]
          },
          "metadata": {
            "needs_background": "light"
          },
          "output_type": "display_data"
        },
        {
          "data": {
            "image/png": "[encoded data removed]",
            "text/plain": [
              "<Figure size 720x360 with 2 Axes>"
            ]
          },
          "metadata": {
            "needs_background": "light"
          },
          "output_type": "display_data"
        }
      ],
      "source": [
        "from IPython import display\n",
        "\n",
        "# parameters\n",
        "# grid size n x n\n",
        "n = 64\n",
        "\n",
        "# step size for the gradient ascent\n",
        "L = 1000\n",
        "\n",
        "# epsilon for pushforward\n",
        "epsilon = 5e-3\n",
        "max_iteration = 10000000\n",
        "\n",
        "X, Y = np.meshgrid(np.linspace(0.5/n,1-0.5/n,n), np.linspace(0.5/n,1-0.5/n,n))\n",
        "\n",
        "Xx = X + 1\n",
        "Xy = Y + 1\n",
        "yMax = 2\n",
        "Yx = yMax * X\n",
        "Yy = yMax * Y\n",
        "\n",
        "dx = 1.0/n\n",
        "dy = dx * yMax\n",
        "\n",
        "Xv = np.zeros((n*n,2))\n",
        "Xv[:,0] = Xx.reshape((n*n,))\n",
        "Xv[:,1] = Xy.reshape((n*n,))\n",
        "\n",
        "Yv = np.zeros((n*n,2))\n",
        "Yv[:,0] = Yx.reshape((n*n,))\n",
        "Yv[:,1] = Yy.reshape((n*n,))\n",
        "\n",
        "cost_np = - np.sum(Xv.reshape((n*n,1,2)) * Yv.reshape((1,n*n,2)),axis=2)\n",
        "print(\"size of cost: \", cost_np.shape)\n",
        "b_np    = 0.5 * (Yx**2 + Yy**2)\n",
        "plt.imshow(b_np,origin='lower')\n",
        "plt.show()\n",
        "\n",
        "psi_np     = - 0.5*(Xx**2+Xy**2)\n",
        "phi_np     = np.zeros((n,n)).astype('float64')\n",
        "nu_np      = np.zeros((n,n)).astype('float64')\n",
        "psi_eps_np = np.zeros((n,n)).astype('float64')\n",
        "out_np     = np.zeros((n,n)).astype('float64')\n",
        "\n",
        "c_transform_forward_cpp(phi_np, psi_np, cost_np)\n",
        "\n",
        "# phi  = torch.from_numpy(phi).type(torch.float32)\n",
        "cost = torch.from_numpy(cost_np)\n",
        "phi  = torch.from_numpy(phi_np)\n",
        "psi  = torch.from_numpy(psi_np)\n",
        "nu   = torch.from_numpy(nu_np)\n",
        "\n",
        "c_transform_forward(phi, psi, cost)\n",
        "\n",
        "fig,ax = plt.subplots(1,2,figsize=(10,5))\n",
        "\n",
        "approx_push_cpp(nu_np, psi_np, phi_np, cost_np, epsilon, dx, dy, yMax)\n",
        "ax[0].imshow(nu_np, origin='lower')\n",
        "ax[0].set_title(f\"sum: {np.sum(nu_np)*dy*dy}\")\n",
        " \n",
        "approx_push(nu, psi, phi, cost, epsilon, dx, dy, yMax, n)\n",
        "ax[1].imshow(nu, origin='lower')\n",
        "ax[1].set_title(f\"sum: {torch.sum(nu)*dy*dy}\")\n",
        "plt.show()\n",
        "\n",
        "helper = HelperClass(phi, dx, dy)\n",
        "\n",
        "if cuda:\n",
        "  phi  = phi.cuda()\n",
        "  psi  = psi.cuda()\n",
        "  cost = cost.cuda()\n",
        "  nu   = nu.cuda()"
      ]
    },
    {
      "cell_type": "markdown",
      "metadata": {},
      "source": [
        "$$\\partial_{xx} (\\phi - b)$$"
      ]
    },
    {
      "cell_type": "code",
      "execution_count": 8,
      "metadata": {},
      "outputs": [
        {
          "data": {
            "image/png": "[encoded data removed]",
            "text/plain": [
              "<Figure size 1224x288 with 3 Axes>"
            ]
          },
          "metadata": {},
          "output_type": "display_data"
        },
        {
          "name": "stderr",
          "output_type": "stream",
          "text": [
            "/Users/wonjunlee/miniconda3/envs/cv/lib/python3.6/site-packages/matplotlib/contour.py:1494: UserWarning: Warning: converting a masked element to nan.\n",
            "  self.zmax = float(z.max())\n",
            "/Users/wonjunlee/miniconda3/envs/cv/lib/python3.6/site-packages/matplotlib/contour.py:1495: UserWarning: Warning: converting a masked element to nan.\n",
            "  self.zmin = float(z.min())\n"
          ]
        },
        {
          "ename": "",
          "evalue": "",
          "output_type": "error",
          "traceback": [
            "\u001b[1;31mThe Kernel crashed while executing code in the the current cell or a previous cell. Please review the code in the cell(s) to identify a possible cause of the failure. Click <a href='https://aka.ms/vscodeJupyterKernelCrash'>here</a> for more info. View Jupyter <a href='command:jupyter.viewOutput'>log</a> for further details."
          ]
        }
      ],
      "source": [
        "fig,ax = plt.subplots(1,3,figsize=(17,4))\n",
        "hdisplay = display.display(\"\", display_id=True)\n",
        "\n",
        "L = 50000\n",
        "\n",
        "phi_np     = (0.5*(Yx**2+Yy**2)).astype('float64')\n",
        "\n",
        "phi_np *= 0\n",
        "\n",
        "for it in range(max_iteration):\n",
        "  c_transform(psi, phi, cost)\n",
        "  # c_transform_cpp(psi_np, phi_np, cost_np)\n",
        "  c_transform_epsilon_cpp(psi_eps_np, psi_np, phi_np, cost_np, epsilon, dx, dy, yMax)\n",
        "  # compute_nu_and_rho_cpp(nu_np, rho_np, psi_eps_np, phi_np,  cost_np, b_np, epsilon, dx, dy, yMax)\n",
        "\n",
        "  approx_push(nu, psi, phi, cost, epsilon, dx, dy, yMax, n)\n",
        "  compute_first_variation_cpp(out_np, psi_eps_np, phi_np, nu_np, cost_np, b_np, dx, dy, yMax)\n",
        "\n",
        "  # fig,ax = plt.subplots(1,1,figsize=(10,10))\n",
        "  # ax.imshow(out_np)\n",
        "  # plt.show()\n",
        "  # break\n",
        "  # approx_push_cpp(nu_np, psi_np, phi_np, cost_np, epsilon, dx, dy, yMax)\n",
        "  phi_np -= 1.0/L * (out_np)\n",
        "\n",
        "  if it % 10 == 0:\n",
        "    # ax[0].imshow(nu_np,origin='lower')\n",
        "    ax[0].contourf(nu_np)\n",
        "    ax[0].set_title(f\"out {np.min(out_np):0.2e}, {np.max(out_np):0.2e} {np.sum(out_np)*dy**2:0.2e}\")\n",
        "    ax[1].contourf(phi_np,origin='lower')\n",
        "    ax[1].set_title(f\"phi {np.min(phi_np):0.2e}, {np.max(phi_np):0.2e}\")\n",
        "    ax[2].contourf(psi_eps_np,origin='lower')\n",
        "    ax[2].set_title(f\"psi {np.min(psi_np):0.2e}, {np.max(psi_np):0.2e}\")\n",
        "    plt.suptitle(f\"it={it}\")\n",
        "    plt.savefig(f\"images/{it//10:03d}.png\")\n",
        "    # plt.show()\n",
        "    hdisplay.update(fig)"
      ]
    },
    {
      "cell_type": "code",
      "execution_count": null,
      "metadata": {
        "id": "KRkqbzjg1sjN"
      },
      "outputs": [
        {
          "ename": "NameError",
          "evalue": "name 'size' is not defined",
          "output_type": "error",
          "traceback": [
            "\u001b[0;31m---------------------------------------------------------------------------\u001b[0m",
            "\u001b[0;31mNameError\u001b[0m                                 Traceback (most recent call last)",
            "\u001b[0;32m<ipython-input-8-f25d051f914e>\u001b[0m in \u001b[0;36m<module>\u001b[0;34m\u001b[0m\n\u001b[1;32m     10\u001b[0m \u001b[0;34m\u001b[0m\u001b[0m\n\u001b[1;32m     11\u001b[0m \u001b[0;34m\u001b[0m\u001b[0m\n\u001b[0;32m---> 12\u001b[0;31m \u001b[0mout\u001b[0m \u001b[0;34m=\u001b[0m \u001b[0mcv2\u001b[0m\u001b[0;34m.\u001b[0m\u001b[0mVideoWriter\u001b[0m\u001b[0;34m(\u001b[0m\u001b[0;34m'project.mp4'\u001b[0m\u001b[0;34m,\u001b[0m\u001b[0mcv2\u001b[0m\u001b[0;34m.\u001b[0m\u001b[0mVideoWriter_fourcc\u001b[0m\u001b[0;34m(\u001b[0m\u001b[0;34m*\u001b[0m\u001b[0;34m'DIVX'\u001b[0m\u001b[0;34m)\u001b[0m\u001b[0;34m,\u001b[0m \u001b[0;36m15\u001b[0m\u001b[0;34m,\u001b[0m \u001b[0msize\u001b[0m\u001b[0;34m)\u001b[0m\u001b[0;34m\u001b[0m\u001b[0;34m\u001b[0m\u001b[0m\n\u001b[0m\u001b[1;32m     13\u001b[0m \u001b[0;34m\u001b[0m\u001b[0m\n\u001b[1;32m     14\u001b[0m \u001b[0;32mfor\u001b[0m \u001b[0mi\u001b[0m \u001b[0;32min\u001b[0m \u001b[0mrange\u001b[0m\u001b[0;34m(\u001b[0m\u001b[0mlen\u001b[0m\u001b[0;34m(\u001b[0m\u001b[0mimg_array\u001b[0m\u001b[0;34m)\u001b[0m\u001b[0;34m)\u001b[0m\u001b[0;34m:\u001b[0m\u001b[0;34m\u001b[0m\u001b[0;34m\u001b[0m\u001b[0m\n",
            "\u001b[0;31mNameError\u001b[0m: name 'size' is not defined"
          ]
        }
      ],
      "source": [
        "import glob\n",
        "import cv2\n",
        "\n",
        "img_array = []\n",
        "for filename in glob.glob('./images/*.png'):\n",
        "    img = cv2.imread(filename)\n",
        "    height, width, layers = img.shape\n",
        "    size = (width,height)\n",
        "    img_array.append(img)\n",
        "\n",
        "\n",
        "out = cv2.VideoWriter('project.mp4',cv2.VideoWriter_fourcc(*'DIVX'), 15, size)\n",
        "\n",
        "for i in range(len(img_array)):\n",
        "    out.write(img_array[i])\n",
        "out.release()\n",
        "\n",
        "from IPython.display import Video\n",
        "Video(\"project.mp4\")"
      ]
    },
    {
      "cell_type": "code",
      "execution_count": null,
      "metadata": {
        "id": "rMeiH6IvHTCJ"
      },
      "outputs": [],
      "source": []
    },
    {
      "cell_type": "code",
      "execution_count": null,
      "metadata": {
        "id": "_SFEgcMHHsVd"
      },
      "outputs": [],
      "source": [
        "!rm images/*\n"
      ]
    },
    {
      "cell_type": "code",
      "execution_count": null,
      "metadata": {
        "id": "00MrCv-1IVlu"
      },
      "outputs": [],
      "source": []
    }
  ],
  "metadata": {
    "accelerator": "GPU",
    "colab": {
      "gpuType": "T4",
      "provenance": []
    },
    "kernelspec": {
      "display_name": "Python 3",
      "name": "python3"
    },
    "language_info": {
      "codemirror_mode": {
        "name": "ipython",
        "version": 3
      },
      "file_extension": ".py",
      "mimetype": "text/x-python",
      "name": "python",
      "nbconvert_exporter": "python",
      "pygments_lexer": "ipython3",
      "version": "3.6.10"
    }
  },
  "nbformat": 4,
  "nbformat_minor": 0
}
